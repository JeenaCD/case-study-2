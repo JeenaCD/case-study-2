{
 "cells": [
  {
   "cell_type": "markdown",
   "id": "951b127b",
   "metadata": {},
   "source": [
    "## 1. Write a Python function to sum all the numbers in a list. (Create a list and get list elements from user)"
   ]
  },
  {
   "cell_type": "code",
   "execution_count": 1,
   "id": "70b6b730",
   "metadata": {},
   "outputs": [
    {
     "name": "stdout",
     "output_type": "stream",
     "text": [
      "Enter the no: of elements in the list: 5\n",
      "Enter the element: 1\n",
      "Enter the element: 2\n",
      "Enter the element: 3\n",
      "Enter the element: 4\n",
      "Enter the element: 5\n",
      "The user given list is  [1, 2, 3, 4, 5]\n",
      "Sum is  15\n"
     ]
    }
   ],
   "source": [
    "\n",
    "l = []\n",
    "\n",
    "def add(l):\n",
    "    i,result = 0,0\n",
    "    for i in l:\n",
    "        result += i\n",
    "    print(\"Sum is \",result)\n",
    "\n",
    "n=0\n",
    "length = int(input(\"Enter the no: of elements in the list: \"))\n",
    "for n in range(0,length):\n",
    "    ele = input(\"Enter the element: \")\n",
    "    l.append(int(ele))\n",
    "    \n",
    "    \n",
    "print(\"The user given list is \",l)\n",
    "add(l)\n"
   ]
  },
  {
   "cell_type": "markdown",
   "id": "ea790a9b",
   "metadata": {},
   "source": [
    "## 2. Write a Python function that checks whether a passed string is palindrome or not."
   ]
  },
  {
   "cell_type": "code",
   "execution_count": 2,
   "id": "b130a91b",
   "metadata": {},
   "outputs": [
    {
     "name": "stdout",
     "output_type": "stream",
     "text": [
      "Enter the string: malayalam\n",
      "Palindrome\n"
     ]
    }
   ],
   "source": [
    "def palindrome(st):\n",
    "   return s == s[::-1]\n",
    "\n",
    "s= input(\"Enter the string: \")\n",
    "val = palindrome(s)\n",
    "if val:\n",
    "    print(\"Palindrome\")\n",
    "else:\n",
    "    print(\"Not Palindrome\")\n",
    "        "
   ]
  },
  {
   "cell_type": "markdown",
   "id": "e6bf317d",
   "metadata": {},
   "source": [
    "## 3. Write a Python recursive function to find the Fibonacci series. Get the limit from the user"
   ]
  },
  {
   "cell_type": "code",
   "execution_count": 3,
   "id": "73437625",
   "metadata": {},
   "outputs": [
    {
     "name": "stdout",
     "output_type": "stream",
     "text": [
      "Enter the required terms: 6\n",
      "1\n",
      "1\n",
      "2\n",
      "3\n",
      "5\n",
      "8\n"
     ]
    }
   ],
   "source": [
    "def fib(n):\n",
    "    if n<=1:\n",
    "        return 1\n",
    "    else:\n",
    "        return (fib(n-1)+fib(n-2))\n",
    "\n",
    "r = int(input(\"Enter the required terms: \"))\n",
    "i=0\n",
    "for i in range(r):\n",
    "    print(fib(i))"
   ]
  },
  {
   "cell_type": "markdown",
   "id": "98617a00",
   "metadata": {},
   "source": [
    "## 4. Write a Python recursive function to print the multiplication table of given number"
   ]
  },
  {
   "cell_type": "code",
   "execution_count": 6,
   "id": "72ad8bdb",
   "metadata": {},
   "outputs": [
    {
     "name": "stdout",
     "output_type": "stream",
     "text": [
      "Enter the no: 5\n",
      "5 * 1 = 5\n",
      "5 * 2 = 10\n",
      "5 * 3 = 15\n",
      "5 * 4 = 20\n",
      "5 * 5 = 25\n",
      "5 * 6 = 30\n",
      "5 * 7 = 35\n",
      "5 * 8 = 40\n",
      "5 * 9 = 45\n",
      "5 * 10 = 50\n"
     ]
    }
   ],
   "source": [
    "def mul_table(n, i):\n",
    "    if (i > 10):\n",
    "        return\n",
    "    print(n,\"*\",i,\"=\",n * i)\n",
    "    return mul_table(n, i + 1)\n",
    "\n",
    "n = int(input(\"Enter the no: \"))\n",
    "mul_table(n, 1)\n"
   ]
  },
  {
   "cell_type": "markdown",
   "id": "ed775457",
   "metadata": {},
   "source": [
    "## 5. Define a function which counts vowels and consonant in a word. "
   ]
  },
  {
   "cell_type": "code",
   "execution_count": 9,
   "id": "88b33b9d",
   "metadata": {},
   "outputs": [
    {
     "name": "stdout",
     "output_type": "stream",
     "text": [
      "Enter the string: string\n",
      "Count of vowels:  1\n",
      "Count of consonant:  5\n"
     ]
    }
   ],
   "source": [
    "def count(s):\n",
    "    i,vcount,ccount = 0,0,0\n",
    "    length = len(s)\n",
    "    vowels = ['a','e','i','o','u','A','E','I','O','U']\n",
    "    for i in range(length):\n",
    "        if(s[i] in vowels):\n",
    "            vcount += 1;\n",
    "        else:\n",
    "            ccount +=1;\n",
    "    print(\"Count of vowels: \",vcount)\n",
    "    print(\"Count of consonant: \",ccount)\n",
    "    \n",
    "s = input(\"Enter the string: \")\n",
    "count(s)\n"
   ]
  },
  {
   "cell_type": "markdown",
   "id": "31508f0c",
   "metadata": {},
   "source": [
    "## 6. Define a function that accepts lowercase words and returns uppercase words"
   ]
  },
  {
   "cell_type": "code",
   "execution_count": 10,
   "id": "1055fdd5",
   "metadata": {},
   "outputs": [
    {
     "name": "stdout",
     "output_type": "stream",
     "text": [
      "Enter the string: egg\n",
      "EGG\n"
     ]
    }
   ],
   "source": [
    "def lowToupp(s):\n",
    "    u=[]\n",
    "    u = s.upper()\n",
    "    return (u)\n",
    "    \n",
    "upp = []   \n",
    "s = input(\"Enter the string: \")\n",
    "upp = lowToupp(s)\n",
    "print(upp)"
   ]
  },
  {
   "cell_type": "markdown",
   "id": "c8e4ef5d",
   "metadata": {},
   "source": [
    "## 7. Write a Python program to remove ‘None’ values from a given list using the lambda function.\n",
    "Given input = [12, 0, None, 23, None, -55, 234, 89, None, 0, 6, -12]\n",
    "Expected output = [12, 0, 23, -55, 234, 89, 0, 6, -12] "
   ]
  },
  {
   "cell_type": "code",
   "execution_count": 11,
   "id": "43ac2bb6",
   "metadata": {},
   "outputs": [
    {
     "name": "stdout",
     "output_type": "stream",
     "text": [
      "Ouput: \n",
      "[12, 0, 23, -55, 234, 89, 0, 6, -12]\n"
     ]
    }
   ],
   "source": [
    "def rem(inp):\n",
    "    result = filter(lambda v: v is not None, inp)\n",
    "    return list(result)\n",
    "\n",
    "inp = [12, 0, None, 23, None, -55, 234, 89, None, 0, 6, -12]\n",
    "print(\"Ouput: \")\n",
    "print(rem(inp))"
   ]
  },
  {
   "cell_type": "markdown",
   "id": "16890d08",
   "metadata": {},
   "source": [
    "## 8. Write a Rectangle class in Python language, allowing you to build a rectangle with length and width attributes.\n",
    "a. Create a Perimeter() method to calculate the perimeter of the \n",
    "rectangle and a Area() method to calculate the area of the rectangle.\n",
    "b. Create a method display() that display the length, width, perimeter \n",
    "and area of an object created using an instantiation on rectangle \n",
    "class.\n",
    "c. Create a Parallelepiped child class inheriting from the Rectangle \n",
    "class and with a height attribute and another Volume() method to \n",
    "calculate the volume of the Parallelepiped## "
   ]
  },
  {
   "cell_type": "code",
   "execution_count": 15,
   "id": "d0148844",
   "metadata": {},
   "outputs": [
    {
     "name": "stdout",
     "output_type": "stream",
     "text": [
      "The length of rectangle is:  7\n",
      "The breadth of rectangle is:  5\n",
      "The perimeter of rectangle is:  24\n",
      "The area of rectangle is:  35\n",
      "the volume of Parallelepiped is:  70\n"
     ]
    }
   ],
   "source": [
    "class Rectangle:\n",
    "    def __init__(self, length ,breadth):\n",
    "        self.length = length\n",
    "        self.breadth = breadth\n",
    "        \n",
    "    \n",
    "    def Perimeter(self):\n",
    "        return 2*(self.length + self.breadth)\n",
    "    \n",
    "    \n",
    "    def Area(self):\n",
    "        return self.length*self.breadth   \n",
    "    \n",
    "    \n",
    "    def display(self):\n",
    "        print(\"The length of rectangle is: \", self.length)\n",
    "        print(\"The breadth of rectangle is: \", self.breadth)\n",
    "        print(\"The perimeter of rectangle is: \", self.Perimeter())\n",
    "        print(\"The area of rectangle is: \", self.Area())\n",
    "        \n",
    "class Parallelepiped(Rectangle):\n",
    "    def __init__(self, length,breadth , height):\n",
    "        Rectangle.__init__(self, length, breadth)\n",
    "        self.height = height\n",
    "        \n",
    "    def volume(self):\n",
    "        return self.length*self.breadth*self.height\n",
    "        \n",
    "myRectangle = Rectangle(7 , 5)\n",
    "myRectangle.display()\n",
    "\n",
    "myParallelepiped= Parallelepipede(7 , 5 , 2)\n",
    "print(\"the volume of Parallelepiped is: \" , myParallelepiped.volume())\n",
    "    "
   ]
  },
  {
   "cell_type": "markdown",
   "id": "9a1fa76d",
   "metadata": {},
   "source": [
    "##  9. Create a Python class called BankAccount which represents a bank account, having as attributes: accountNumber (numeric type), name (name of the account owner as string type), balance.\n",
    "a. Create a constructor with parameters: accountNumber, name, \n",
    "balance.\n",
    "b. Create a Deposit() method which manages the deposit actions.\n",
    "c. Create a Withdrawal() method which manages withdrawals \n",
    "actions.\n",
    "d. Create an bankFees() method to apply the bank fees with a \n",
    "percentage of 5% of the balance account.\n",
    "e. Create a display() method to display account details.\n",
    "f. Give the complete code for the BankAccount class."
   ]
  },
  {
   "cell_type": "code",
   "execution_count": 31,
   "id": "b12981a9",
   "metadata": {},
   "outputs": [
    {
     "name": "stdout",
     "output_type": "stream",
     "text": [
      "Account Number :  123456\n",
      "Account Name :  Jeena\n",
      "Account Balance: Rs.  2300\n"
     ]
    }
   ],
   "source": [
    "class BankAccount:\n",
    "    def __init__(self,accountNumber, name, balance):\n",
    "        self.accountNumber = accountNumber\n",
    "        self.name = name\n",
    "        self.balance = balance\n",
    "        \n",
    "    def Deposit(self , d ):\n",
    "        self.balance = self.balance + d\n",
    "    \n",
    "    def Withdrawal(self , w):\n",
    "        if(self.balance < w):\n",
    "            print(\"Insufficient balance !\")\n",
    "        else:\n",
    "            self.balance = self.balance - w\n",
    "   \n",
    "    def bankFees(self):\n",
    "        self.balance = (95/100)*self.balance\n",
    "        \n",
    "    def display(self):\n",
    "        print(\"Account Number : \" , self.accountNumber)\n",
    "        print(\"Account Name : \" , self.name)\n",
    "        print(\"Account Balance: Rs. \" , self.balance)\n",
    "        \n",
    "\n",
    "newAccount = BankAccount(123456, \"Jeena\" , 2500)\n",
    "newAccount.Withdrawal(500)\n",
    "newAccount.Deposit(300)\n",
    "newAccount.display()"
   ]
  },
  {
   "cell_type": "code",
   "execution_count": null,
   "id": "5ec02dfa",
   "metadata": {},
   "outputs": [],
   "source": []
  }
 ],
 "metadata": {
  "kernelspec": {
   "display_name": "Python 3 (ipykernel)",
   "language": "python",
   "name": "python3"
  },
  "language_info": {
   "codemirror_mode": {
    "name": "ipython",
    "version": 3
   },
   "file_extension": ".py",
   "mimetype": "text/x-python",
   "name": "python",
   "nbconvert_exporter": "python",
   "pygments_lexer": "ipython3",
   "version": "3.9.13"
  }
 },
 "nbformat": 4,
 "nbformat_minor": 5
}
